#Defines the class Person
class Person:
    def __init__(self, name, eyecolor, age):
        self.name = name
        self.eyecolor = eyecolor
        self.age = age

#Defines the class Name
class Name:
    def __init__(self, firstname, lastname):
        self.fname = firstname
        self.lname = lastname

#Creates a person with eyecolor "brown", age 30, and
#a name with firstname "David", lastname "Joyner",
myPerson = Person(Name("David", "Joyner"), "brown", 30)
print(myPerson.name.fname)
print(myPerson.name.lname)
print(myPerson.eyecolor)
print(myPerson.age)


class Person:
    def __init__(self, name, age, father=None, mother=None):
        self.name = name
        self.age = age
        self.father = father
        self.mother = mother

fPerson = Person("Mr. Burdell", 53,)
sPerson = Person("Mrs. Burdell", 53,)
george_p = Person("George P. Burdell", 25, fPerson, sPerson)

print(george_p.name)
print(george_p.mother.name)
print(george_p.father.name)



