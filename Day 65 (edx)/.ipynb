{
 "cells": [
  {
   "cell_type": "code",
   "execution_count": 2,
   "metadata": {},
   "outputs": [
    {
     "name": "stdout",
     "output_type": "stream",
     "text": [
      "False\n"
     ]
    }
   ],
   "source": [
    "#Write a class named \"Number\" with one attribute called \n",
    "#\"value\" which defaults to 0 and another attribute called \n",
    "#\"even\" which defaults to True.\n",
    "#\n",
    "#Next, create an instance of this class and assign it to\n",
    "#a variable called \"number_instance\".\n",
    "#\n",
    "#Then, set the value attribute to 101 and the even\n",
    "#attribute to False.\n",
    "\n",
    "\n",
    "#Write your code here!\n",
    "class Number:\n",
    "    def __init__(self):\n",
    "        self.value = 0\n",
    "        self.even = True\n",
    "        \n",
    "number_instance = Number()\n",
    "number_instance.value = 101\n",
    "number_instance.even = False\n",
    "\n",
    "print(number_instance.even)"
   ]
  },
  {
   "cell_type": "code",
   "execution_count": 3,
   "metadata": {},
   "outputs": [
    {
     "name": "stdout",
     "output_type": "stream",
     "text": [
      "[no first name]\n",
      "[no last name]\n",
      "[no eye color]\n",
      "-1\n"
     ]
    }
   ],
   "source": [
    "#Define the class Person\n",
    "class Person:\n",
    "    #Create a new instance of Person\n",
    "    def __init__(self):\n",
    "        #Person's default values\n",
    "        self.firstname = \"[no first name]\"\n",
    "        self.lastname = \"[no last name]\"\n",
    "        self.eyecolor = \"[no eye color]\"\n",
    "        self.age = -1\n",
    "\n",
    "#Create a new Person and assign it to myPerson\n",
    "myPerson = Person()\n",
    "#Print myPerson's values\n",
    "print(myPerson.firstname)\n",
    "print(myPerson.lastname)\n",
    "print(myPerson.eyecolor)\n",
    "print(myPerson.age)"
   ]
  },
  {
   "cell_type": "code",
   "execution_count": null,
   "metadata": {},
   "outputs": [],
   "source": []
  }
 ],
 "metadata": {
  "kernelspec": {
   "display_name": "Python 3",
   "language": "python",
   "name": "python3"
  },
  "language_info": {
   "codemirror_mode": {
    "name": "ipython",
    "version": 3
   },
   "file_extension": ".py",
   "mimetype": "text/x-python",
   "name": "python",
   "nbconvert_exporter": "python",
   "pygments_lexer": "ipython3",
   "version": "3.7.6"
  }
 },
 "nbformat": 4,
 "nbformat_minor": 4
}
