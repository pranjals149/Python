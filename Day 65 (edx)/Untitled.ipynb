#Write a class named "Number" with one attribute called 
#"value" which defaults to 0 and another attribute called 
#"even" which defaults to True.
#
#Next, create an instance of this class and assign it to
#a variable called "number_instance".
#
#Then, set the value attribute to 101 and the even
#attribute to False.


#Write your code here!
class Number:
    def __init__(self):
        self.value = 0
        self.even = True
        
number_instance = Number()
number_instance.value = 101
number_instance.even = False

print(number_instance.even)


#Define the class Person
class Person:
    #Create a new instance of Person
    def __init__(self):
        #Person's default values
        self.firstname = "[no first name]"
        self.lastname = "[no last name]"
        self.eyecolor = "[no eye color]"
        self.age = -1

#Create a new Person and assign it to myPerson
myPerson = Person()
#Print myPerson's values
print(myPerson.firstname)
print(myPerson.lastname)
print(myPerson.eyecolor)
print(myPerson.age)
