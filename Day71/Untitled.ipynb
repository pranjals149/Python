{
 "cells": [
  {
   "cell_type": "code",
   "execution_count": 3,
   "metadata": {},
   "outputs": [
    {
     "name": "stdout",
     "output_type": "stream",
     "text": [
      "David\n",
      "Joyner\n",
      "brown\n",
      "30\n"
     ]
    }
   ],
   "source": [
    "#Defines the class Person\n",
    "class Person:\n",
    "    def __init__(self, name, eyecolor, age):\n",
    "        self.name = name\n",
    "        self.eyecolor = eyecolor\n",
    "        self.age = age\n",
    "\n",
    "#Defines the class Name\n",
    "class Name:\n",
    "    def __init__(self, firstname, lastname):\n",
    "        self.fname = firstname\n",
    "        self.lname = lastname\n",
    "\n",
    "#Creates a person with eyecolor \"brown\", age 30, and\n",
    "#a name with firstname \"David\", lastname \"Joyner\",\n",
    "myPerson = Person(Name(\"David\", \"Joyner\"), \"brown\", 30)\n",
    "print(myPerson.name.fname)\n",
    "print(myPerson.name.lname)\n",
    "print(myPerson.eyecolor)\n",
    "print(myPerson.age)\n"
   ]
  },
  {
   "cell_type": "code",
   "execution_count": 4,
   "metadata": {},
   "outputs": [
    {
     "name": "stdout",
     "output_type": "stream",
     "text": [
      "George P. Burdell\n",
      "Mrs. Burdell\n",
      "Mr. Burdell\n"
     ]
    }
   ],
   "source": [
    "class Person:\n",
    "    def __init__(self, name, age, father=None, mother=None):\n",
    "        self.name = name\n",
    "        self.age = age\n",
    "        self.father = father\n",
    "        self.mother = mother\n",
    "\n",
    "fPerson = Person(\"Mr. Burdell\", 53,)\n",
    "sPerson = Person(\"Mrs. Burdell\", 53,)\n",
    "george_p = Person(\"George P. Burdell\", 25, fPerson, sPerson)\n",
    "\n",
    "print(george_p.name)\n",
    "print(george_p.mother.name)\n",
    "print(george_p.father.name)\n"
   ]
  },
  {
   "cell_type": "code",
   "execution_count": null,
   "metadata": {},
   "outputs": [],
   "source": []
  }
 ],
 "metadata": {
  "kernelspec": {
   "display_name": "Python 3",
   "language": "python",
   "name": "python3"
  },
  "language_info": {
   "codemirror_mode": {
    "name": "ipython",
    "version": 3
   },
   "file_extension": ".py",
   "mimetype": "text/x-python",
   "name": "python",
   "nbconvert_exporter": "python",
   "pygments_lexer": "ipython3",
   "version": "3.7.6"
  }
 },
 "nbformat": 4,
 "nbformat_minor": 4
}
