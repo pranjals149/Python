#Defines the class Person
class Person:
    def __init__(self, name, eyecolor, age):
        self.name = name
        self.eyecolor = eyecolor
        self.age = age

#Defines the class Name
class Name:
    def __init__(self, firstname, lastname):
        self.fname = firstname
        self.lname = lastname

#Creates a person with eyecolor "brown", age 30, and
#a name with firstname "David", lastname "Joyner",
myPerson = Person(Name("David", "Joyner"), "brown", 30)
print(myPerson.name.fname)
print(myPerson.name.lname)
print(myPerson.eyecolor)
print(myPerson.age)


